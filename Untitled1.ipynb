{
  "nbformat": 4,
  "nbformat_minor": 0,
  "metadata": {
    "colab": {
      "name": "Untitled1.ipynb",
      "provenance": [],
      "authorship_tag": "ABX9TyMwC9Rc6xOVYJ3UOvln52Lh",
      "include_colab_link": true
    },
    "kernelspec": {
      "name": "python3",
      "display_name": "Python 3"
    },
    "language_info": {
      "name": "python"
    }
  },
  "cells": [
    {
      "cell_type": "markdown",
      "metadata": {
        "id": "view-in-github",
        "colab_type": "text"
      },
      "source": [
        "<a href=\"https://colab.research.google.com/github/Anjaly-Shaju/day1pgm/blob/main/Untitled1.ipynb\" target=\"_parent\"><img src=\"https://colab.research.google.com/assets/colab-badge.svg\" alt=\"Open In Colab\"/></a>"
      ]
    },
    {
      "cell_type": "code",
      "execution_count": 1,
      "metadata": {
        "colab": {
          "base_uri": "https://localhost:8080/"
        },
        "id": "xP7z07xfiUhO",
        "outputId": "f316dc2b-522c-4b10-88e4-50f5cd3c11cd"
      },
      "outputs": [
        {
          "output_type": "stream",
          "name": "stdout",
          "text": [
            "Enter numbers: 20 30 40 50 10\n",
            "Sum:  150\n"
          ]
        }
      ],
      "source": [
        "x = [int(i) for i in input('Enter numbers: ').split()]\n",
        "s = 0\n",
        "for i in x:\n",
        "  s += i\n",
        "print('Sum: ', s)"
      ]
    }
  ]
}